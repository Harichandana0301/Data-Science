{
  "cells": [
    {
      "cell_type": "markdown",
      "metadata": {
        "id": "ueWmxIyWU8fG"
      },
      "source": [
        "# Homework 2\n",
        "\n",
        "**Please type your name and A number here:**"
      ]
    },
    {
      "cell_type": "code",
      "execution_count": 141,
      "metadata": {
        "id": "Hspsjhn8yGYM"
      },
      "outputs": [],
      "source": [
        "Name = \"Hari Chandana Kotnani\"\n",
        "assert Name != \"\", 'Please enter your name in the above quotation marks, thanks!'\n",
        "\n",
        "A_number = \"A02395874\"\n",
        "assert A_number != \"\", 'Please enter your A-number in the above quotation marks, thanks!'"
      ]
    },
    {
      "cell_type": "markdown",
      "metadata": {
        "id": "iUyCA3KvyGYN"
      },
      "source": [
        "In this homework, we will implement a logistic regression from scratch. Your jobs\n",
        "\n",
        "1. Implement the objective function.\n",
        "\n",
        "2. Implement the stochastic gradident descent algorithm to train the logistic regression.\n",
        "\n",
        "3. Implement the mini-batch stochastic gradident descent algorithm to train the logistic regression.\n",
        "\n",
        "4. Submit the .IPYNB file to Canvas.\n",
        "    - Missing the output after execution may hurt your grade.\n",
        "\n",
        "\n",
        "**In this homework, you are not allowed to import other packages, such as PyTorch. You need to write the plain numpy code to implement the algorithms and cannot use sklearn in your implementation.**\n",
        "\n",
        "When computing the gradient and objective function value for GD and mini-batch SGD algorithms, use matrix-vector multiplication rather than a FOR LOOP of vector-vector multiplications.\n",
        "\n",
        "In general, you can expect the following chart regarding the convergence of GD, SGD, and mini-batch SGD.\n",
        "\n",
        "<img src=\"https://docs.google.com/uc?export=download&id=13QpAtDEiaZUbLSPLqzjZTsuCCtbRfnQz\" alt=\"drawing\" width=\"400\"/>\n",
        "\n",
        "**Bonus (15pt)**: add a regularization term to the objective function and train the model based on the new objective function.\n",
        "\n",
        "# 1. Data processing\n",
        "\n",
        "- Download the Diabete dataset from https://www.csie.ntu.edu.tw/~cjlin/libsvmtools/datasets/binary/diabetes\n",
        "- Load the data using sklearn.\n",
        "- Preprocess the data.\n",
        "\n",
        "## 1.1. Load the data"
      ]
    },
    {
      "cell_type": "code",
      "execution_count": 142,
      "metadata": {
        "colab": {
          "base_uri": "https://localhost:8080/"
        },
        "id": "FHa_HxmOU8fJ",
        "outputId": "e1e7a08d-c75d-47a0-c6fb-f8e03fb22a60"
      },
      "outputs": [
        {
          "output_type": "stream",
          "name": "stdout",
          "text": [
            "Shape of x: (768, 8)\n",
            "Shape of y: (768,)\n"
          ]
        }
      ],
      "source": [
        "from sklearn import datasets\n",
        "from sklearn import preprocessing\n",
        "import numpy as np\n",
        "import math\n",
        "\n",
        "x_sparse, y = datasets.load_svmlight_file('diabetes.txt')\n",
        "x = x_sparse.toarray()\n",
        "lb = preprocessing.LabelBinarizer()\n",
        "y = lb.fit_transform(y).reshape(-1)\n",
        "print('Shape of x: ' + str(x.shape))\n",
        "print('Shape of y: ' + str(y.shape))"
      ]
    },
    {
      "cell_type": "markdown",
      "metadata": {
        "id": "1_6NI-WOU8fP"
      },
      "source": [
        "## 1.2. Partition to training and test sets"
      ]
    },
    {
      "cell_type": "code",
      "execution_count": 143,
      "metadata": {
        "colab": {
          "base_uri": "https://localhost:8080/"
        },
        "id": "wY8k5eLOU8fP",
        "outputId": "ba928efa-3a76-46cb-8edd-02489c3b4af8"
      },
      "outputs": [
        {
          "output_type": "stream",
          "name": "stdout",
          "text": [
            "Shape of x_train: (615, 8)\n",
            "Shape of x_test: (153, 8)\n",
            "Shape of y_train: (615,)\n",
            "Shape of y_test: (153,)\n"
          ]
        }
      ],
      "source": [
        "# partition the data to training and test sets\n",
        "n = x.shape[0]\n",
        "n_train = int(np.ceil(n * 0.8))\n",
        "n_test = n - n_train\n",
        "\n",
        "rand_indices = np.random.permutation(n)\n",
        "train_indices = rand_indices[0:n_train]\n",
        "test_indices = rand_indices[n_train:n]\n",
        "\n",
        "x_train = x[train_indices, :]\n",
        "x_test = x[test_indices, :]\n",
        "y_train = y[train_indices]\n",
        "y_test = y[test_indices]\n",
        "\n",
        "print('Shape of x_train: ' + str(x_train.shape))\n",
        "print('Shape of x_test: ' + str(x_test.shape))\n",
        "print('Shape of y_train: ' + str(y_train.shape))\n",
        "print('Shape of y_test: ' + str(y_test.shape))"
      ]
    },
    {
      "cell_type": "markdown",
      "metadata": {
        "id": "GHbhxbJFU8fT"
      },
      "source": [
        "## 1.3. Feature scaling"
      ]
    },
    {
      "cell_type": "markdown",
      "metadata": {
        "id": "4T1oT_D-U8fU"
      },
      "source": [
        "Min-max normalization and standardization are two popular feature scaling methods.\n",
        "\n",
        "- Min-max normalization scales the features to the interval $[0, 1]$.\n",
        "- Standardization makes the features have zero mean and unit variance."
      ]
    },
    {
      "cell_type": "code",
      "execution_count": 144,
      "metadata": {
        "colab": {
          "base_uri": "https://localhost:8080/"
        },
        "id": "F320GXNdU8fV",
        "outputId": "8c9206ab-9e61-4a69-9a44-2a8df4c12558"
      },
      "outputs": [
        {
          "output_type": "stream",
          "name": "stdout",
          "text": [
            "[[0.35294118 0.74371859 0.59016393 ... 0.50074514 0.23441503 0.48333333]\n",
            " [0.05882353 0.42713568 0.54098361 ... 0.39642326 0.11656704 0.16666667]\n",
            " [0.47058824 0.91959799 0.52459016 ... 0.34724292 0.25362938 0.18333333]\n",
            " ...\n",
            " [0.29411765 0.6080402  0.59016393 ... 0.39046202 0.07130658 0.15      ]\n",
            " [0.05882353 0.63316583 0.49180328 ... 0.44858422 0.11571307 0.43333333]\n",
            " [0.05882353 0.46733668 0.57377049 ... 0.45305516 0.10119556 0.03333333]]\n",
            "max = \n",
            "[1. 1. 1. 1. 1. 1. 1. 1.]\n",
            "min = \n",
            "[0. 0. 0. 0. 0. 0. 0. 0.]\n"
          ]
        }
      ],
      "source": [
        "# Min-Max Normalization\n",
        "d = x.shape[1]\n",
        "xmin = np.min(x, axis=0).reshape(1, d)\n",
        "xmax = np.max(x, axis=0).reshape(1, d)\n",
        "xnew = (x - xmin) / (xmax - xmin)\n",
        "\n",
        "print(xnew)\n",
        "\n",
        "print('max = ')\n",
        "print(np.max(xnew, axis=0))\n",
        "\n",
        "print('min = ')\n",
        "print(np.min(xnew, axis=0))"
      ]
    },
    {
      "cell_type": "code",
      "execution_count": 145,
      "metadata": {
        "colab": {
          "base_uri": "https://localhost:8080/"
        },
        "id": "pLkMWyCOU8fZ",
        "outputId": "7a2bedda-cc02-4855-fe70-7a4bf690ddcc"
      },
      "outputs": [
        {
          "output_type": "stream",
          "name": "stdout",
          "text": [
            "xnew = \n",
            "[[ 0.63994726  0.84832379  0.14964075 ...  0.20401252  0.46849198\n",
            "   1.4259954 ]\n",
            " [-0.84488505 -1.12339636 -0.16054575 ... -0.68442195 -0.36506078\n",
            "  -0.19067191]\n",
            " [ 1.23388019  1.94372388 -0.26394125 ... -1.10325559  0.60439732\n",
            "  -0.10558415]\n",
            " ...\n",
            " [ 0.3429808   0.00330087  0.14964075 ... -0.73518952 -0.68519336\n",
            "  -0.27575966]\n",
            " [-0.84488505  0.1597866  -0.47073225 ... -0.24020459 -0.37110101\n",
            "   1.17073215]\n",
            " [-0.84488505 -0.8730192   0.04624525 ... -0.20212882 -0.47378505\n",
            "  -0.87137393]]\n",
            "mean = \n",
            "[-7.74843153e-17  3.61400724e-18 -1.32724416e-17  7.76288755e-17\n",
            " -5.49329101e-17  5.12683067e-15  1.92438658e-15  2.19297959e-16]\n",
            "std = \n",
            "[1. 1. 1. 1. 1. 1. 1. 1.]\n"
          ]
        }
      ],
      "source": [
        "# Standardization\n",
        "\n",
        "d = x.shape[1]\n",
        "mu = np.mean(x, axis=0).reshape(1, d)\n",
        "sig = np.std(x, axis=0).reshape(1, d)\n",
        "xnew = (x - mu) / sig\n",
        "\n",
        "print('xnew = ')\n",
        "print(xnew)\n",
        "\n",
        "print('mean = ')\n",
        "print(np.mean(xnew, axis=0))\n",
        "\n",
        "print('std = ')\n",
        "print(np.std(xnew, axis=0))"
      ]
    },
    {
      "cell_type": "markdown",
      "metadata": {
        "id": "ODJv-cZGU8fg"
      },
      "source": [
        "### In this homework, we use the standardization to trainsform both training and test features"
      ]
    },
    {
      "cell_type": "code",
      "execution_count": 146,
      "metadata": {
        "colab": {
          "base_uri": "https://localhost:8080/"
        },
        "id": "Hh16BVL1U8fh",
        "outputId": "7c847f51-06a9-43c9-a601-8eb9b93d9831"
      },
      "outputs": [
        {
          "output_type": "stream",
          "name": "stdout",
          "text": [
            "test mean = \n",
            "[-0.01728271  0.21518297  0.11572014  0.00615854 -0.09787213  0.00449861\n",
            " -0.06743849  0.01112509]\n",
            "test std = \n",
            "[0.88225663 0.94605568 0.78874768 1.04421846 0.94337803 0.88991846\n",
            " 1.14471327 0.96035844]\n"
          ]
        }
      ],
      "source": [
        "# Standardization\n",
        "\n",
        "# calculate mu and sig using the training set\n",
        "d = x_train.shape[1]\n",
        "mu = np.mean(x_train, axis=0).reshape(1, d)\n",
        "sig = np.std(x_train, axis=0).reshape(1, d)\n",
        "\n",
        "# transform the training features\n",
        "x_train = (x_train - mu) / sig\n",
        "\n",
        "# transform the test features\n",
        "x_test = (x_test - mu) / sig\n",
        "\n",
        "\n",
        "print('test mean = ')\n",
        "print(np.mean(x_test, axis=0))\n",
        "\n",
        "print('test std = ')\n",
        "print(np.std(x_test, axis=0))"
      ]
    },
    {
      "cell_type": "markdown",
      "metadata": {
        "id": "TBn7Lj6AU8fp"
      },
      "source": [
        "# 2. Logistic regression model\n",
        "## Define the sigmoid function\n"
      ]
    },
    {
      "cell_type": "code",
      "execution_count": 147,
      "metadata": {
        "id": "aK2j8pVKQ8OT"
      },
      "outputs": [],
      "source": [
        "def _sigmoid(z):\n",
        "    # Sigmoid function can be used to calculate probability.\n",
        "    # To avoid overflow, minimum/maximum output value is set.\n",
        "    return np.clip(1 / (1.0 + np.exp(-z)), 1e-8, 1 - (1e-8))\n",
        "\n",
        "def _f(X, w, b):\n",
        "    # This is the logistic regression function, parameterized by w and b\n",
        "    #\n",
        "    # Arguements:\n",
        "    #     X: input data, shape = [n or batch_size, data_dimension]\n",
        "    #     w: weight vector, shape = [data_dimension, ]\n",
        "    #     b: bias, scalar\n",
        "    # Output:\n",
        "    #     predicted probability of each row of X being positively labeled, shape = [n or batch_size, ]\n",
        "    return _sigmoid(np.matmul(X, w) + b)"
      ]
    },
    {
      "cell_type": "markdown",
      "metadata": {
        "id": "xpld_Qg-RB1a"
      },
      "source": [
        "The objective function is $L(\\mathbf{w}; \\mathbf{X}, \\mathbf{y})=\\sum_{i=1}^n -[y_i \\log \\hat y_i + (1-y_i)\\log (1-\\hat y_i)]$, where $\\hat y_i = \\sigma (\\mathbf{w}^T \\mathbf{x}_i +b)$.\n",
        "\n",
        "<font color='red'> **rubic={20 points}** </font> "
      ]
    },
    {
      "cell_type": "code",
      "execution_count": 148,
      "metadata": {
        "id": "7me0eR0cU8fq"
      },
      "outputs": [],
      "source": [
        "def _cross_entropy_loss(y_pred, Y_label):\n",
        "    \n",
        "    # This function computes the cross entropy.\n",
        "    #\n",
        "    # Arguements:\n",
        "    #     y_pred: probabilistic predictions, float vector\n",
        "    #     Y_label: ground truth labels,  vector\n",
        "    # Output:\n",
        "    #     cross entropy: scalar\n",
        "\n",
        "    ## write your code here. You CANNOT use for loop here.\n",
        "    \n",
        "    cross_entropy = np.sum(-( Y_label * (np.log(y_pred)) + (1 - (Y_label)) * np.log(1 - (y_pred)) )) \n",
        "    \n",
        "    return cross_entropy"
      ]
    },
    {
      "cell_type": "code",
      "execution_count": 149,
      "metadata": {
        "colab": {
          "base_uri": "https://localhost:8080/"
        },
        "id": "fhSa5351U8ft",
        "outputId": "5f7f274a-b03c-4fd6-82dc-ae817e892078"
      },
      "outputs": [
        {
          "output_type": "stream",
          "name": "stdout",
          "text": [
            "Initial objective function value = 426.2855160443664\n"
          ]
        }
      ],
      "source": [
        "# initialize w, b\n",
        "d = x_train.shape[1]\n",
        "w = np.zeros(d)\n",
        "b = np.zeros(1)\n",
        "# evaluate the objective function value at w\n",
        "y_pred = _f(x_train, w, b)\n",
        "objval0 = _cross_entropy_loss(y_pred, y_train)\n",
        "print('Initial objective function value = ' + str(objval0))"
      ]
    },
    {
      "cell_type": "markdown",
      "metadata": {
        "id": "mKtSRP2lU8fx"
      },
      "source": [
        "# 3. Numerical optimization"
      ]
    },
    {
      "cell_type": "markdown",
      "metadata": {
        "id": "UH9nycupU8fx"
      },
      "source": [
        "## 3.1. Calculate the full gradient\n",
        "\n",
        "The gradient at $w$ is $g = \\frac{1}{n} \\sum_{i=1}^n [\\sigma (\\mathbf{w}^T \\mathbf{x}_i + b)-y_i]\\mathbf{x}_i$"
      ]
    },
    {
      "cell_type": "code",
      "execution_count": 150,
      "metadata": {
        "id": "kWp8JOYBOFZX"
      },
      "outputs": [],
      "source": [
        "# Calculate the gradient\n",
        "# Inputs:\n",
        "#     X: n-by-d matrix\n",
        "#     Y_label: n-by-1 matrix\n",
        "#     w: d-by-1 matrix\n",
        "#     b: scalar\n",
        "# Return:\n",
        "#     w_grad: d-by-1 matrix, full gradient\n",
        "#     b_grad: scalar\n",
        "def _gradient(X, Y_label, w, b):\n",
        "    # This function computes the gradient of cross entropy loss with respect to weight w and bias b.\n",
        "    y_pred = _f(X, w, b)\n",
        "    pred_error = y_pred - Y_label\n",
        "    w_grad = np.mean(pred_error * X.T, 1)\n",
        "    b_grad = np.mean(pred_error)\n",
        "    return w_grad, b_grad"
      ]
    },
    {
      "cell_type": "markdown",
      "metadata": {
        "id": "A2zIXNwnU8f2"
      },
      "source": [
        "## 3.2. Gradient descent\n"
      ]
    },
    {
      "cell_type": "code",
      "execution_count": 151,
      "metadata": {
        "id": "1RBVx_34U8f2"
      },
      "outputs": [],
      "source": [
        "# Gradient descent for solving logistic regression\n",
        "# Inputs:\n",
        "#     x_train: n-by-d matrix\n",
        "#     y_train: n-by-1 matrix\n",
        "#     stepsize: scalar\n",
        "#     max_iter: integer, the maximal iterations\n",
        "# Return:\n",
        "#     w: d-by-1 matrix, the solution\n",
        "#     b: scalr, the solution\n",
        "#     objvals: a record of each epoch's objective value\n",
        "def grad_descent(x_train, y_train, w, b, stepsize, max_iter=150):\n",
        "    n, d = x_train.shape\n",
        "    objvals = np.zeros(max_iter) # store the objective values\n",
        "    \n",
        "    for t in range(max_iter):\n",
        "        y_pred = _f(x_train, w, b)\n",
        "        objval = _cross_entropy_loss(y_pred, y_train)\n",
        "        objvals[t] = objval/n\n",
        "        print('Objective value at t=' + str(t) + ' is ' + str(objval/n))\n",
        "        w_grad, b_grad = _gradient(x_train, y_train, w, b)\n",
        "        w -= stepsize * w_grad\n",
        "        b -= stepsize * b_grad\n",
        "    stepsize *= 0.9 # decrease step size\n",
        "    \n",
        "    return w, b, objvals"
      ]
    },
    {
      "cell_type": "code",
      "execution_count": 152,
      "metadata": {
        "colab": {
          "base_uri": "https://localhost:8080/"
        },
        "id": "ZNZqy-TbU8f7",
        "outputId": "a5247a34-c60c-45c5-ff22-f7ddc1086a13"
      },
      "outputs": [
        {
          "output_type": "stream",
          "name": "stdout",
          "text": [
            "Objective value at t=0 is 0.6931471805599453\n",
            "Objective value at t=1 is 0.6674933594562708\n",
            "Objective value at t=2 is 0.6458192748474948\n",
            "Objective value at t=3 is 0.6273974180422861\n",
            "Objective value at t=4 is 0.6116290580131932\n",
            "Objective value at t=5 is 0.598030898709449\n",
            "Objective value at t=6 is 0.5862165577891675\n",
            "Objective value at t=7 is 0.5758780441374336\n",
            "Objective value at t=8 is 0.5667695067924607\n",
            "Objective value at t=9 is 0.5586938801184572\n",
            "Objective value at t=10 is 0.5514922838816346\n",
            "Objective value at t=11 is 0.5450357604910695\n",
            "Objective value at t=12 is 0.5392188873120096\n",
            "Objective value at t=13 is 0.5339548502550142\n",
            "Objective value at t=14 is 0.5291716394787829\n",
            "Objective value at t=15 is 0.524809101184558\n",
            "Objective value at t=16 is 0.5208166415695856\n",
            "Objective value at t=17 is 0.517151428382305\n",
            "Objective value at t=18 is 0.5137769734946603\n",
            "Objective value at t=19 is 0.5106620086044198\n",
            "Objective value at t=20 is 0.5077795876840351\n",
            "Objective value at t=21 is 0.5051063658547315\n",
            "Objective value at t=22 is 0.502622016364146\n",
            "Objective value at t=23 is 0.5003087563310623\n",
            "Objective value at t=24 is 0.4981509586734979\n",
            "Objective value at t=25 is 0.4961348327343087\n",
            "Objective value at t=26 is 0.4942481599866212\n",
            "Objective value at t=27 is 0.49248007415225814\n",
            "Objective value at t=28 is 0.4908208773298891\n",
            "Objective value at t=29 is 0.48926188547572\n",
            "Objective value at t=30 is 0.48779529793394727\n",
            "Objective value at t=31 is 0.4864140867705947\n",
            "Objective value at t=32 is 0.4851119024927464\n",
            "Objective value at t=33 is 0.48388299338822877\n",
            "Objective value at t=34 is 0.4827221362382451\n",
            "Objective value at t=35 is 0.4816245765675276\n",
            "Objective value at t=36 is 0.4805859769262928\n",
            "Objective value at t=37 is 0.4796023719633742\n",
            "Objective value at t=38 is 0.4786701292639828\n",
            "Objective value at t=39 is 0.4777859150992024\n",
            "Objective value at t=40 is 0.47694666437578975\n",
            "Objective value at t=41 is 0.4761495541905666\n",
            "Objective value at t=42 is 0.47539198048872167\n",
            "Objective value at t=43 is 0.4746715374036954\n",
            "Objective value at t=44 is 0.4739859989211585\n",
            "Objective value at t=45 is 0.4733333025634514\n",
            "Objective value at t=46 is 0.47271153483574363\n",
            "Objective value at t=47 is 0.47211891821271573\n",
            "Objective value at t=48 is 0.4715537994760819\n",
            "Objective value at t=49 is 0.4710146392397928\n",
            "Objective value at t=50 is 0.4705000025221733\n",
            "Objective value at t=51 is 0.4700085502432279\n",
            "Objective value at t=52 is 0.4695390315414804\n",
            "Objective value at t=53 is 0.46909027681846505\n",
            "Objective value at t=54 is 0.4686611914307315\n",
            "Objective value at t=55 is 0.4682507499593037\n",
            "Objective value at t=56 is 0.4678579909951824\n",
            "Objective value at t=57 is 0.46748201238694015\n",
            "Objective value at t=58 is 0.4671219669029018\n",
            "Objective value at t=59 is 0.46677705826598004\n",
            "Objective value at t=60 is 0.4664465375240802\n",
            "Objective value at t=61 is 0.46612969972320606\n",
            "Objective value at t=62 is 0.4658258808540689\n",
            "Objective value at t=63 is 0.46553445504622515\n",
            "Objective value at t=64 is 0.4652548319865746\n",
            "Objective value at t=65 is 0.4649864545415311\n",
            "Objective value at t=66 is 0.46472879656434923\n",
            "Objective value at t=67 is 0.46448136087100966\n",
            "Objective value at t=68 is 0.4642436773697601\n",
            "Objective value at t=69 is 0.46401530133090846\n",
            "Objective value at t=70 is 0.4637958117847952\n",
            "Objective value at t=71 is 0.4635848100370506\n",
            "Objective value at t=72 is 0.46338191829129977\n",
            "Objective value at t=73 is 0.4631867783704064\n",
            "Objective value at t=74 is 0.4629990505281932\n",
            "Objective value at t=75 is 0.4628184123443171\n",
            "Objective value at t=76 is 0.4626445576956521\n",
            "Objective value at t=77 is 0.4624771957981329\n",
            "Objective value at t=78 is 0.4623160503135536\n",
            "Objective value at t=79 is 0.46216085851629984\n",
            "Objective value at t=80 is 0.4620113705154341\n",
            "Objective value at t=81 is 0.4618673485279456\n",
            "Objective value at t=82 is 0.4617285661993362\n",
            "Objective value at t=83 is 0.4615948079680364\n",
            "Objective value at t=84 is 0.46146586847043414\n",
            "Objective value at t=85 is 0.4613415519835714\n",
            "Objective value at t=86 is 0.461221671902798\n",
            "Objective value at t=87 is 0.46110605025189383\n",
            "Objective value at t=88 is 0.4609945172233699\n",
            "Objective value at t=89 is 0.4608869107468398\n",
            "Objective value at t=90 is 0.4607830760835163\n",
            "Objective value at t=91 is 0.4606828654450438\n",
            "Objective value at t=92 is 0.46058613763500894\n",
            "Objective value at t=93 is 0.4604927577116036\n",
            "Objective value at t=94 is 0.4604025966700248\n",
            "Objective value at t=95 is 0.4603155311433073\n",
            "Objective value at t=96 is 0.4602314431203741\n",
            "Objective value at t=97 is 0.460150219680189\n",
            "Objective value at t=98 is 0.4600717527409663\n",
            "Objective value at t=99 is 0.45999593882347617\n",
            "Objective value at t=100 is 0.45992267882755056\n",
            "Objective value at t=101 is 0.45985187782095427\n",
            "Objective value at t=102 is 0.45978344483985206\n",
            "Objective value at t=103 is 0.4597172927001505\n",
            "Objective value at t=104 is 0.4596533378190443\n",
            "Objective value at t=105 is 0.4595915000461468\n",
            "Objective value at t=106 is 0.45953170250361935\n",
            "Objective value at t=107 is 0.45947387143476337\n",
            "Objective value at t=108 is 0.4594179360605644\n",
            "Objective value at t=109 is 0.4593638284437217\n",
            "Objective value at t=110 is 0.45931148335971916\n",
            "Objective value at t=111 is 0.45926083817452923\n",
            "Objective value at t=112 is 0.4592118327285624\n",
            "Objective value at t=113 is 0.45916440922650587\n",
            "Objective value at t=114 is 0.4591185121327113\n",
            "Objective value at t=115 is 0.4590740880718197\n",
            "Objective value at t=116 is 0.4590310857343263\n",
            "Objective value at t=117 is 0.4589894557868098\n",
            "Objective value at t=118 is 0.4589491507865657\n",
            "Objective value at t=119 is 0.4589101251004021\n",
            "Objective value at t=120 is 0.4588723348273683\n",
            "Objective value at t=121 is 0.45883573772520253\n",
            "Objective value at t=122 is 0.4588002931402965\n",
            "Objective value at t=123 is 0.45876596194099073\n",
            "Objective value at t=124 is 0.45873270645401804\n",
            "Objective value at t=125 is 0.4587004904039328\n",
            "Objective value at t=126 is 0.45866927885536546\n",
            "Objective value at t=127 is 0.45863903815795487\n",
            "Objective value at t=128 is 0.45860973589382137\n",
            "Objective value at t=129 is 0.4585813408274449\n",
            "Objective value at t=130 is 0.45855382285782864\n",
            "Objective value at t=131 is 0.4585271529728289\n",
            "Objective value at t=132 is 0.4585013032055429\n",
            "Objective value at t=133 is 0.4584762465926484\n",
            "Objective value at t=134 is 0.4584519571345997\n",
            "Objective value at t=135 is 0.4584284097575863\n",
            "Objective value at t=136 is 0.4584055802771669\n",
            "Objective value at t=137 is 0.4583834453634958\n",
            "Objective value at t=138 is 0.45836198250806465\n",
            "Objective value at t=139 is 0.4583411699918854\n",
            "Objective value at t=140 is 0.4583209868550443\n",
            "Objective value at t=141 is 0.45830141286756126\n",
            "Objective value at t=142 is 0.4582824285014926\n",
            "Objective value at t=143 is 0.45826401490421603\n",
            "Objective value at t=144 is 0.4582461538728456\n",
            "Objective value at t=145 is 0.45822882782971985\n",
            "Objective value at t=146 is 0.4582120197989135\n",
            "Objective value at t=147 is 0.45819571338372833\n",
            "Objective value at t=148 is 0.45817989274511367\n",
            "Objective value at t=149 is 0.45816454258097533\n"
          ]
        }
      ],
      "source": [
        "# example\n",
        "d = x_train.shape[1]\n",
        "w = np.zeros(d)\n",
        "b = np.zeros(1)\n",
        "stepsize = 0.2\n",
        "w, b, objvals_gd = grad_descent(x_train, y_train, w, b, stepsize)"
      ]
    },
    {
      "cell_type": "markdown",
      "metadata": {
        "id": "gVrjVsv0U8f-"
      },
      "source": [
        "## 3.3. Stochastic gradient descent (SGD)\n",
        "\n",
        "Define $L_i(\\mathbf{w}; \\mathbf{x}, y)= -[y_i \\log \\hat y_i + (1-y_i)\\log (1-\\hat y_i)]$, where $\\hat y_i = \\sigma (\\mathbf{w}^T \\mathbf{x}_i +b)$.\n",
        "\n",
        "The stochastic gradient at $w$ is $g_i = \\frac{\\partial L_i }{ \\partial w} = [\\sigma (\\mathbf{w}^T \\mathbf{x}_i + b)-y_i]\\mathbf{x}_i$.\n",
        "\n",
        "<font color='red'> **rubic={30 points}** </font> "
      ]
    },
    {
      "cell_type": "code",
      "execution_count": 153,
      "metadata": {
        "id": "RwJeIIOHU8f-"
      },
      "outputs": [],
      "source": [
        "# Calculate the objective L_i and the gradient of L_i\n",
        "# Inputs (you can revise the inputs of this function):\n",
        "#     xi: 1-by-d matrix\n",
        "#     yi: scalar\n",
        "#     w: d-by-1 matrix\n",
        "#     b: scalar\n",
        "# Return:\n",
        "#     w_grad: d-by-1 matrix, gradient of L_i with respect to w\n",
        "#     b_grad: scalr, gradient of L_i with respect to b\n",
        "def stochastic_objective_gradient(xi, yi, w, b):\n",
        "    y_pred = _f(xi, w, b)\n",
        "    pred_error = y_pred - yi\n",
        "    w_grad = np.asarray(pred_error * xi.T)\n",
        "    b_grad = pred_error\n",
        "\n",
        "    return w_grad, b_grad"
      ]
    },
    {
      "cell_type": "code",
      "execution_count": 154,
      "metadata": {
        "id": "BTZtZdhbU8gE"
      },
      "outputs": [],
      "source": [
        "# SGD for solving logistic regression\n",
        "# Inputs:\n",
        "#     x_train: n-by-d matrix\n",
        "#     y_train: n-by-1 matrix\n",
        "#     w: d-by-1 matrix, initialization of w\n",
        "#     b: scalr, initialization of b\n",
        "#     stepsize: scalar\n",
        "#     max_epoch: integer, the maximal epochs\n",
        "# Return:\n",
        "#     w: the solution\n",
        "#     b: the solution\n",
        "#     objvals: record of each epoch's objective value\n",
        "def sgd(x_train, y_train, w, b, stepsize, max_epoch=150):\n",
        "    n, d = x_train.shape\n",
        "    objvals = np.zeros(max_epoch) # store the objective values\n",
        "    for t in range(max_epoch):\n",
        "        # randomly shuffle the samples\n",
        "        rand_indices = np.random.permutation(n)\n",
        "        x_rand = x_train[rand_indices, :]\n",
        "        y_rand = y_train[rand_indices]\n",
        "        \n",
        "        objval = 0 # accumulate the objective values\n",
        "        for i in range(n):\n",
        "            xi = x_rand[i, :] # 1-by-d matrix\n",
        "            yi = float(y_rand[i]) # scalar\n",
        "            y_pred = _f(xi, w, b)\n",
        "            obj = float(_cross_entropy_loss(y_pred, yi))\n",
        "            w_grad, b_grad = stochastic_objective_gradient(xi, yi, w, b)\n",
        "            objval += obj\n",
        "            w -= stepsize * w_grad\n",
        "            b -= stepsize * b_grad\n",
        "        \n",
        "        stepsize *= 0.9 # decrease step size\n",
        "        objvals[t] = objval/n\n",
        "        print('Objective value at epoch t=' + str(t) + ' is ' + str(objval/n))\n",
        "    \n",
        "    return w, b, objvals"
      ]
    },
    {
      "cell_type": "code",
      "execution_count": 155,
      "metadata": {
        "colab": {
          "base_uri": "https://localhost:8080/"
        },
        "id": "iWwrX2IUU8gH",
        "outputId": "c63594e5-64a2-4bca-980c-5bb9c7d6d94a"
      },
      "outputs": [
        {
          "output_type": "stream",
          "name": "stdout",
          "text": [
            "Objective value at epoch t=0 is 0.5655778159751734\n",
            "Objective value at epoch t=1 is 0.5372056510237724\n",
            "Objective value at epoch t=2 is 0.5479375407432525\n",
            "Objective value at epoch t=3 is 0.5260003825464782\n",
            "Objective value at epoch t=4 is 0.518071646545653\n",
            "Objective value at epoch t=5 is 0.5104025225358542\n",
            "Objective value at epoch t=6 is 0.508208741619286\n",
            "Objective value at epoch t=7 is 0.5119798589677133\n",
            "Objective value at epoch t=8 is 0.4974004801824455\n",
            "Objective value at epoch t=9 is 0.4946912958779277\n",
            "Objective value at epoch t=10 is 0.48471146500869766\n",
            "Objective value at epoch t=11 is 0.4830201980190446\n",
            "Objective value at epoch t=12 is 0.4868150722564176\n",
            "Objective value at epoch t=13 is 0.4790236472727782\n",
            "Objective value at epoch t=14 is 0.48341184764290085\n",
            "Objective value at epoch t=15 is 0.4764972722473233\n",
            "Objective value at epoch t=16 is 0.47445478956645043\n",
            "Objective value at epoch t=17 is 0.477437891232908\n",
            "Objective value at epoch t=18 is 0.476202372345\n",
            "Objective value at epoch t=19 is 0.47291843306081355\n",
            "Objective value at epoch t=20 is 0.4716914567419277\n",
            "Objective value at epoch t=21 is 0.47052446301309475\n",
            "Objective value at epoch t=22 is 0.46704313601029396\n",
            "Objective value at epoch t=23 is 0.4675969211852802\n",
            "Objective value at epoch t=24 is 0.46626906688285585\n",
            "Objective value at epoch t=25 is 0.46365738378194865\n",
            "Objective value at epoch t=26 is 0.46636280103031813\n",
            "Objective value at epoch t=27 is 0.46443246863660753\n",
            "Objective value at epoch t=28 is 0.4625430555094798\n",
            "Objective value at epoch t=29 is 0.46367481889650747\n",
            "Objective value at epoch t=30 is 0.46292850239818395\n",
            "Objective value at epoch t=31 is 0.46240713456352783\n",
            "Objective value at epoch t=32 is 0.46144702477457444\n",
            "Objective value at epoch t=33 is 0.46150804641490695\n",
            "Objective value at epoch t=34 is 0.4612336183515667\n",
            "Objective value at epoch t=35 is 0.4608940456695771\n",
            "Objective value at epoch t=36 is 0.46059595597224595\n",
            "Objective value at epoch t=37 is 0.4602081840733257\n",
            "Objective value at epoch t=38 is 0.4598682683101285\n",
            "Objective value at epoch t=39 is 0.4597613183127432\n",
            "Objective value at epoch t=40 is 0.45957289861801726\n",
            "Objective value at epoch t=41 is 0.45942828871646446\n",
            "Objective value at epoch t=42 is 0.45922606577808806\n",
            "Objective value at epoch t=43 is 0.45904849879055826\n",
            "Objective value at epoch t=44 is 0.45894088178821335\n",
            "Objective value at epoch t=45 is 0.4588132613403478\n",
            "Objective value at epoch t=46 is 0.4586983186479967\n",
            "Objective value at epoch t=47 is 0.45858621331155375\n",
            "Objective value at epoch t=48 is 0.45847476694913886\n",
            "Objective value at epoch t=49 is 0.4584057424028609\n",
            "Objective value at epoch t=50 is 0.4583350416614229\n",
            "Objective value at epoch t=51 is 0.45826005206845905\n",
            "Objective value at epoch t=52 is 0.4581934704927768\n",
            "Objective value at epoch t=53 is 0.4581409302707378\n",
            "Objective value at epoch t=54 is 0.4580966090583245\n",
            "Objective value at epoch t=55 is 0.4580477337046453\n",
            "Objective value at epoch t=56 is 0.4580110367436581\n",
            "Objective value at epoch t=57 is 0.45797239764766406\n",
            "Objective value at epoch t=58 is 0.457939684055157\n",
            "Objective value at epoch t=59 is 0.45791038888717017\n",
            "Objective value at epoch t=60 is 0.45788233785379856\n",
            "Objective value at epoch t=61 is 0.45785959549080396\n",
            "Objective value at epoch t=62 is 0.45783768338260267\n",
            "Objective value at epoch t=63 is 0.4578180153653315\n",
            "Objective value at epoch t=64 is 0.4578003434632581\n",
            "Objective value at epoch t=65 is 0.4577839935717975\n",
            "Objective value at epoch t=66 is 0.4577697854914362\n",
            "Objective value at epoch t=67 is 0.45775676867091036\n",
            "Objective value at epoch t=68 is 0.45774525420554607\n",
            "Objective value at epoch t=69 is 0.45773458766648273\n",
            "Objective value at epoch t=70 is 0.45772539445792365\n",
            "Objective value at epoch t=71 is 0.4577168052290689\n",
            "Objective value at epoch t=72 is 0.45770919893507644\n",
            "Objective value at epoch t=73 is 0.4577022758701395\n",
            "Objective value at epoch t=74 is 0.4576960961235841\n",
            "Objective value at epoch t=75 is 0.45769051664554733\n",
            "Objective value at epoch t=76 is 0.45768551891889886\n",
            "Objective value at epoch t=77 is 0.45768097650591105\n",
            "Objective value at epoch t=78 is 0.4576769248599727\n",
            "Objective value at epoch t=79 is 0.4576732472470716\n",
            "Objective value at epoch t=80 is 0.45766996363118767\n",
            "Objective value at epoch t=81 is 0.45766700005268834\n",
            "Objective value at epoch t=82 is 0.45766432324047146\n",
            "Objective value at epoch t=83 is 0.45766192932099015\n",
            "Objective value at epoch t=84 is 0.45765975281221827\n",
            "Objective value at epoch t=85 is 0.4576578161019999\n",
            "Objective value at epoch t=86 is 0.45765606203468134\n",
            "Objective value at epoch t=87 is 0.4576544844707501\n",
            "Objective value at epoch t=88 is 0.45765305926253674\n",
            "Objective value at epoch t=89 is 0.45765178401466544\n",
            "Objective value at epoch t=90 is 0.4576506345862367\n",
            "Objective value at epoch t=91 is 0.457649600470368\n",
            "Objective value at epoch t=92 is 0.4576486692624598\n",
            "Objective value at epoch t=93 is 0.45764783072519755\n",
            "Objective value at epoch t=94 is 0.4576470758654827\n",
            "Objective value at epoch t=95 is 0.45764639645082716\n",
            "Objective value at epoch t=96 is 0.45764578530263156\n",
            "Objective value at epoch t=97 is 0.4576452349549156\n",
            "Objective value at epoch t=98 is 0.45764473992071314\n",
            "Objective value at epoch t=99 is 0.457644294033207\n",
            "Objective value at epoch t=100 is 0.4576438931335167\n",
            "Objective value at epoch t=101 is 0.45764353199273383\n",
            "Objective value at epoch t=102 is 0.45764320712940654\n",
            "Objective value at epoch t=103 is 0.45764291462322937\n",
            "Objective value at epoch t=104 is 0.45764265136265597\n",
            "Objective value at epoch t=105 is 0.45764241461664734\n",
            "Objective value at epoch t=106 is 0.4576422013635181\n",
            "Objective value at epoch t=107 is 0.4576420095039413\n",
            "Objective value at epoch t=108 is 0.4576418368112916\n",
            "Objective value at epoch t=109 is 0.45764168140290296\n",
            "Objective value at epoch t=110 is 0.4576415415340146\n",
            "Objective value at epoch t=111 is 0.45764141561097993\n",
            "Objective value at epoch t=112 is 0.45764130231383454\n",
            "Objective value at epoch t=113 is 0.45764120033481903\n",
            "Objective value at epoch t=114 is 0.45764110857766377\n",
            "Objective value at epoch t=115 is 0.45764102596426237\n",
            "Objective value at epoch t=116 is 0.45764095163476826\n",
            "Objective value at epoch t=117 is 0.4576408847289107\n",
            "Objective value at epoch t=118 is 0.4576408245145049\n",
            "Objective value at epoch t=119 is 0.45764077031971295\n",
            "Objective value at epoch t=120 is 0.45764072154512137\n",
            "Objective value at epoch t=121 is 0.4576406776501834\n",
            "Objective value at epoch t=122 is 0.4576406381398653\n",
            "Objective value at epoch t=123 is 0.45764060258430705\n",
            "Objective value at epoch t=124 is 0.45764057058369384\n",
            "Objective value at epoch t=125 is 0.4576405417827824\n",
            "Objective value at epoch t=126 is 0.4576405158618419\n",
            "Objective value at epoch t=127 is 0.45764049253250544\n",
            "Objective value at epoch t=128 is 0.45764047153669046\n",
            "Objective value at epoch t=129 is 0.45764045263865416\n",
            "Objective value at epoch t=130 is 0.4576404356329321\n",
            "Objective value at epoch t=131 is 0.4576404203264054\n",
            "Objective value at epoch t=132 is 0.4576404065508819\n",
            "Objective value at epoch t=133 is 0.4576403941535904\n",
            "Objective value at epoch t=134 is 0.4576403829953011\n",
            "Objective value at epoch t=135 is 0.4576403729530261\n",
            "Objective value at epoch t=136 is 0.4576403639148936\n",
            "Objective value at epoch t=137 is 0.45764035578052503\n",
            "Objective value at epoch t=138 is 0.4576403484597293\n",
            "Objective value at epoch t=139 is 0.4576403418708411\n",
            "Objective value at epoch t=140 is 0.4576403359409269\n",
            "Objective value at epoch t=141 is 0.4576403306040363\n",
            "Objective value at epoch t=142 is 0.457640325800783\n",
            "Objective value at epoch t=143 is 0.457640321477849\n",
            "Objective value at epoch t=144 is 0.4576403175872147\n",
            "Objective value at epoch t=145 is 0.45764031408565303\n",
            "Objective value at epoch t=146 is 0.45764031093425206\n",
            "Objective value at epoch t=147 is 0.457640308097976\n",
            "Objective value at epoch t=148 is 0.45764030554533375\n",
            "Objective value at epoch t=149 is 0.4576403032479667\n"
          ]
        }
      ],
      "source": [
        "# example\n",
        "# initialize w, b\n",
        "d = x_train.shape[1]\n",
        "w = np.zeros(d)\n",
        "b = np.zeros(1)\n",
        "stepsize = 0.2\n",
        "w, b, objvals_sgd = sgd(x_train, y_train, w, b, stepsize)"
      ]
    },
    {
      "cell_type": "markdown",
      "metadata": {
        "id": "aYKci7dWU8gN"
      },
      "source": [
        "## 3.3. Mini-batch SGD\n",
        "\n",
        "Define $L_I(\\mathbf{w}; \\mathbf{X}, \\mathbf{y})= \\sum_{i \\in I} -[y_i \\log \\hat y_i + (1-y_i)\\log (1-\\hat y_i)]$, where $\\hat y_i = \\sigma (\\mathbf{w}^T \\mathbf{x}_i +b)$, and $I$ is a set containing $b$ indices randomly drawn from $\\{ 1, \\cdots , n \\}$ without replacement.\n",
        "\n",
        "\n",
        "\n",
        "The stochastic gradient at $w$ is $g_I =  \\sum_{i \\in I} [\\sigma (\\mathbf{w}^T \\mathbf{x}_i + b)-y_i]\\mathbf{x}_i$.\n",
        "\n",
        "<font color='red'> **rubic={50 points}** </font> "
      ]
    },
    {
      "cell_type": "code",
      "execution_count": 156,
      "metadata": {
        "id": "6Owyb4YcXC09"
      },
      "outputs": [],
      "source": [
        "# mini_batch_SGD for solving logistic regression\n",
        "# Inputs:\n",
        "#     x_train: n-by-d matrix\n",
        "#     y_train: n-by-1 matrix\n",
        "#     w: d-by-1 matrix, initialization of w\n",
        "#     b: scalar, initialization of b\n",
        "#     stepsize: scalar\n",
        "#     batch_size: integer, the number of batch size\n",
        "#     max_epoch: integer, the maximal epochs\n",
        "# Return:\n",
        "#     w: the solution\n",
        "#     b: the solution\n",
        "#     objvals: record of each epoch's objective value\n",
        "import numpy\n",
        "def epoch(s, a, l):\n",
        "    idxArray = [i for i in range(len(a))]\n",
        "    numpy.random.shuffle(idxArray)\n",
        "    return [[a[numpy.array(idxArray[i: min(i + s, len(a))])], l[numpy.array(idxArray[i: min(i + s, len(a))])]]  for i in range(0,len(a), s)]\n",
        "    \n",
        "    \n",
        "def mini_batch_sgd(x_train, y_train, w, b, stepsize, batch_size=32, max_epoch=150):\n",
        "    n, d = x_train.shape\n",
        "    objvals = np.zeros(max_epoch)\n",
        "    \n",
        "    for t in range(max_epoch):\n",
        "      objval = 0 \n",
        "\n",
        "      ## write your code here\n",
        "      for X, Y in epoch(batch_size, x_train, y_train):\n",
        "          y_pred = _f(X, w, b)\n",
        "          DG, GG = _gradient(X, Y, w, b)\n",
        "          objval += _cross_entropy_loss(y_pred, Y)\n",
        "          w = w - stepsize * DG\n",
        "          b = b - stepsize * GG\n",
        "        \n",
        "      stepsize *= 0.9 \n",
        "      objvals[t] = objval/n\n",
        "      print('Objective value at epoch t=' + str(t) + ' is ' + str(objval/n))\n",
        "    \n",
        "    return w, b, objvals"
      ]
    },
    {
      "cell_type": "code",
      "execution_count": 157,
      "metadata": {
        "colab": {
          "base_uri": "https://localhost:8080/"
        },
        "id": "lkhRPei-a8l-",
        "outputId": "d6327c58-c080-46ce-fb26-ad138dfb4ba0"
      },
      "outputs": [
        {
          "output_type": "stream",
          "name": "stdout",
          "text": [
            "Objective value at epoch t=0 is 0.5775974352263152\n",
            "Objective value at epoch t=1 is 0.49491102151260596\n",
            "Objective value at epoch t=2 is 0.4760571579931024\n",
            "Objective value at epoch t=3 is 0.4693481828469736\n",
            "Objective value at epoch t=4 is 0.4645570412555208\n",
            "Objective value at epoch t=5 is 0.46279143131321343\n",
            "Objective value at epoch t=6 is 0.46125268929698726\n",
            "Objective value at epoch t=7 is 0.4612293095928867\n",
            "Objective value at epoch t=8 is 0.4602783393942902\n",
            "Objective value at epoch t=9 is 0.4600457399069862\n",
            "Objective value at epoch t=10 is 0.45959002447185304\n",
            "Objective value at epoch t=11 is 0.459554459340907\n",
            "Objective value at epoch t=12 is 0.4596704394411856\n",
            "Objective value at epoch t=13 is 0.45896271107218695\n",
            "Objective value at epoch t=14 is 0.45904525007542973\n",
            "Objective value at epoch t=15 is 0.45893656838294306\n",
            "Objective value at epoch t=16 is 0.4588143607533298\n",
            "Objective value at epoch t=17 is 0.4585848855009432\n",
            "Objective value at epoch t=18 is 0.45858416579606454\n",
            "Objective value at epoch t=19 is 0.4584847997848674\n",
            "Objective value at epoch t=20 is 0.4584020762703169\n",
            "Objective value at epoch t=21 is 0.45832501658670854\n",
            "Objective value at epoch t=22 is 0.458321816902735\n",
            "Objective value at epoch t=23 is 0.4582324278583198\n",
            "Objective value at epoch t=24 is 0.45818377428001156\n",
            "Objective value at epoch t=25 is 0.4582399457795037\n",
            "Objective value at epoch t=26 is 0.45813869896831944\n",
            "Objective value at epoch t=27 is 0.4580588765241143\n",
            "Objective value at epoch t=28 is 0.4580417442437604\n",
            "Objective value at epoch t=29 is 0.4580408111247151\n",
            "Objective value at epoch t=30 is 0.45798971650175674\n",
            "Objective value at epoch t=31 is 0.4580264235760687\n",
            "Objective value at epoch t=32 is 0.4579643768662824\n",
            "Objective value at epoch t=33 is 0.4579353224867483\n",
            "Objective value at epoch t=34 is 0.45795730590218653\n",
            "Objective value at epoch t=35 is 0.45796349783305534\n",
            "Objective value at epoch t=36 is 0.4579387427476113\n",
            "Objective value at epoch t=37 is 0.45792623692032286\n",
            "Objective value at epoch t=38 is 0.4578855534955508\n",
            "Objective value at epoch t=39 is 0.4578918329247388\n",
            "Objective value at epoch t=40 is 0.457897757110695\n",
            "Objective value at epoch t=41 is 0.45789812909822464\n",
            "Objective value at epoch t=42 is 0.45787234841202673\n",
            "Objective value at epoch t=43 is 0.45786974357519333\n",
            "Objective value at epoch t=44 is 0.4578768121218392\n",
            "Objective value at epoch t=45 is 0.4578635161001498\n",
            "Objective value at epoch t=46 is 0.4578570041181182\n",
            "Objective value at epoch t=47 is 0.45784841812945853\n",
            "Objective value at epoch t=48 is 0.4578495516763194\n",
            "Objective value at epoch t=49 is 0.45783891936832327\n",
            "Objective value at epoch t=50 is 0.4578387993329321\n",
            "Objective value at epoch t=51 is 0.45783861947634175\n",
            "Objective value at epoch t=52 is 0.45783376586601215\n",
            "Objective value at epoch t=53 is 0.4578287379311437\n",
            "Objective value at epoch t=54 is 0.4578306447060621\n",
            "Objective value at epoch t=55 is 0.4578295824770438\n",
            "Objective value at epoch t=56 is 0.457826561134936\n",
            "Objective value at epoch t=57 is 0.4578256519303624\n",
            "Objective value at epoch t=58 is 0.45782388128868995\n",
            "Objective value at epoch t=59 is 0.45782419117183054\n",
            "Objective value at epoch t=60 is 0.4578224829034027\n",
            "Objective value at epoch t=61 is 0.4578217504808115\n",
            "Objective value at epoch t=62 is 0.4578187108814335\n",
            "Objective value at epoch t=63 is 0.45781867145061705\n",
            "Objective value at epoch t=64 is 0.4578199609072002\n",
            "Objective value at epoch t=65 is 0.4578186619904317\n",
            "Objective value at epoch t=66 is 0.4578176810300322\n",
            "Objective value at epoch t=67 is 0.45781755444642813\n",
            "Objective value at epoch t=68 is 0.45781692833206844\n",
            "Objective value at epoch t=69 is 0.4578165106976799\n",
            "Objective value at epoch t=70 is 0.4578163960155637\n",
            "Objective value at epoch t=71 is 0.45781575202003283\n",
            "Objective value at epoch t=72 is 0.45781531057902725\n",
            "Objective value at epoch t=73 is 0.4578154532725932\n",
            "Objective value at epoch t=74 is 0.45781483452330723\n",
            "Objective value at epoch t=75 is 0.4578145689964423\n",
            "Objective value at epoch t=76 is 0.4578148057620881\n",
            "Objective value at epoch t=77 is 0.4578143482828324\n",
            "Objective value at epoch t=78 is 0.45781439818022857\n",
            "Objective value at epoch t=79 is 0.4578142303062656\n",
            "Objective value at epoch t=80 is 0.45781391398305954\n",
            "Objective value at epoch t=81 is 0.4578140520194284\n",
            "Objective value at epoch t=82 is 0.4578136997839078\n",
            "Objective value at epoch t=83 is 0.4578136489723136\n",
            "Objective value at epoch t=84 is 0.4578134691746647\n",
            "Objective value at epoch t=85 is 0.45781340654147173\n",
            "Objective value at epoch t=86 is 0.457813366641715\n",
            "Objective value at epoch t=87 is 0.45781331415601856\n",
            "Objective value at epoch t=88 is 0.4578132435828126\n",
            "Objective value at epoch t=89 is 0.45781324926802136\n",
            "Objective value at epoch t=90 is 0.4578131713573215\n",
            "Objective value at epoch t=91 is 0.4578131819173656\n",
            "Objective value at epoch t=92 is 0.4578131672453852\n",
            "Objective value at epoch t=93 is 0.45781316667308536\n",
            "Objective value at epoch t=94 is 0.4578130999118899\n",
            "Objective value at epoch t=95 is 0.4578130824195668\n",
            "Objective value at epoch t=96 is 0.4578130448332841\n",
            "Objective value at epoch t=97 is 0.45781301971424077\n",
            "Objective value at epoch t=98 is 0.45781301874722763\n",
            "Objective value at epoch t=99 is 0.45781299829729644\n",
            "Objective value at epoch t=100 is 0.45781299592348357\n",
            "Objective value at epoch t=101 is 0.4578129664994244\n",
            "Objective value at epoch t=102 is 0.45781295337369243\n",
            "Objective value at epoch t=103 is 0.45781294080715235\n",
            "Objective value at epoch t=104 is 0.457812937573686\n",
            "Objective value at epoch t=105 is 0.45781292999045703\n",
            "Objective value at epoch t=106 is 0.45781291088823506\n",
            "Objective value at epoch t=107 is 0.4578129186072265\n",
            "Objective value at epoch t=108 is 0.457812911544837\n",
            "Objective value at epoch t=109 is 0.4578128958041754\n",
            "Objective value at epoch t=110 is 0.457812898585616\n",
            "Objective value at epoch t=111 is 0.4578128864581\n",
            "Objective value at epoch t=112 is 0.4578128825846357\n",
            "Objective value at epoch t=113 is 0.457812877802562\n",
            "Objective value at epoch t=114 is 0.4578128787432747\n",
            "Objective value at epoch t=115 is 0.4578128715219336\n",
            "Objective value at epoch t=116 is 0.45781286854263303\n",
            "Objective value at epoch t=117 is 0.45781286953128714\n",
            "Objective value at epoch t=118 is 0.45781286746219935\n",
            "Objective value at epoch t=119 is 0.4578128634218897\n",
            "Objective value at epoch t=120 is 0.45781286049464986\n",
            "Objective value at epoch t=121 is 0.4578128589997444\n",
            "Objective value at epoch t=122 is 0.4578128596080124\n",
            "Objective value at epoch t=123 is 0.4578128578107816\n",
            "Objective value at epoch t=124 is 0.4578128572231716\n",
            "Objective value at epoch t=125 is 0.4578128544075553\n",
            "Objective value at epoch t=126 is 0.4578128548123068\n",
            "Objective value at epoch t=127 is 0.4578128531950397\n",
            "Objective value at epoch t=128 is 0.45781285111802317\n",
            "Objective value at epoch t=129 is 0.4578128513295652\n",
            "Objective value at epoch t=130 is 0.4578128511008643\n",
            "Objective value at epoch t=131 is 0.45781285056284327\n",
            "Objective value at epoch t=132 is 0.45781285134594335\n",
            "Objective value at epoch t=133 is 0.4578128498008496\n",
            "Objective value at epoch t=134 is 0.45781284898522084\n",
            "Objective value at epoch t=135 is 0.45781284831487945\n",
            "Objective value at epoch t=136 is 0.4578128480217419\n",
            "Objective value at epoch t=137 is 0.45781284764138125\n",
            "Objective value at epoch t=138 is 0.45781284769386427\n",
            "Objective value at epoch t=139 is 0.4578128467398573\n",
            "Objective value at epoch t=140 is 0.45781284675025674\n",
            "Objective value at epoch t=141 is 0.45781284649259135\n",
            "Objective value at epoch t=142 is 0.457812846231399\n",
            "Objective value at epoch t=143 is 0.45781284639293596\n",
            "Objective value at epoch t=144 is 0.4578128459567415\n",
            "Objective value at epoch t=145 is 0.4578128460142491\n",
            "Objective value at epoch t=146 is 0.45781284585092424\n",
            "Objective value at epoch t=147 is 0.4578128456144756\n",
            "Objective value at epoch t=148 is 0.457812845504967\n",
            "Objective value at epoch t=149 is 0.45781284542187983\n"
          ]
        }
      ],
      "source": [
        "# example\n",
        "d = x_train.shape[1]\n",
        "w = np.zeros(d)\n",
        "b = np.zeros(1)\n",
        "stepsize = 0.2\n",
        "w, b, objvals_mini_sgd = mini_batch_sgd(x_train, y_train, w, b, stepsize)"
      ]
    },
    {
      "cell_type": "markdown",
      "metadata": {
        "id": "hJm0NM49U8gK"
      },
      "source": [
        "### Compare GD, SGD, and mini batch SGD\n",
        "\n",
        "Plot objective function values against epochs."
      ]
    },
    {
      "cell_type": "code",
      "execution_count": 158,
      "metadata": {
        "colab": {
          "base_uri": "https://localhost:8080/",
          "height": 297
        },
        "id": "zrMngP3MU8gK",
        "outputId": "0863b281-299e-4158-a4a6-72c7b94c7dfa"
      },
      "outputs": [
        {
          "output_type": "display_data",
          "data": {
            "text/plain": [
              "<Figure size 432x288 with 1 Axes>"
            ],
            "image/png": "[encoded data removed]"
          },
          "metadata": {
            "needs_background": "light"
          }
        }
      ],
      "source": [
        "import matplotlib.pyplot as plt\n",
        "%matplotlib inline\n",
        "\n",
        "fig = plt.figure(figsize=(6, 4))\n",
        "\n",
        "epochs_gd = range(len(objvals_gd))\n",
        "epochs_sgd = range(len(objvals_sgd))\n",
        "epochs_mini_sgd = range(len(objvals_mini_sgd))\n",
        "\n",
        "line0, = plt.plot(epochs_gd, objvals_gd, '--b', LineWidth=2)\n",
        "line1, = plt.plot(epochs_sgd, objvals_sgd, '-r', LineWidth=2)\n",
        "line2, = plt.plot(epochs_mini_sgd, objvals_mini_sgd, '.-y', LineWidth=2)\n",
        "plt.xlabel('Epochs', FontSize=20)\n",
        "plt.ylabel('Objective Value', FontSize=20)\n",
        "plt.xticks(FontSize=16)\n",
        "plt.yticks(FontSize=16)\n",
        "plt.legend([line0, line1, line2], ['GD', 'SGD', 'batch SGD'], fontsize=20)\n",
        "plt.tight_layout()\n",
        "plt.show()\n",
        "fig.savefig('compare_gd_sgd.pdf', format='pdf', dpi=1200)"
      ]
    },
    {
      "cell_type": "markdown",
      "metadata": {
        "id": "wzoBjLRuU8gN"
      },
      "source": [
        "# 4. Prediction"
      ]
    },
    {
      "cell_type": "code",
      "execution_count": 159,
      "metadata": {
        "id": "RxBpOpWtU8gO"
      },
      "outputs": [],
      "source": [
        "# Predict class label\n",
        "# Inputs:\n",
        "#     w: d-by-1 matrix\n",
        "#     X: m-by-d matrix\n",
        "# Return:\n",
        "#     f: m-by-1 matrix, the predictions\n",
        "def predict(w, X):\n",
        "    xw = np.dot(X, w)\n",
        "    f = np.sign(xw)\n",
        "    return f"
      ]
    },
    {
      "cell_type": "code",
      "execution_count": 160,
      "metadata": {
        "colab": {
          "base_uri": "https://localhost:8080/"
        },
        "id": "g-RJK4pnU8gQ",
        "outputId": "e200240a-fc9d-4875-bf28-2dab9ec7c4c3"
      },
      "outputs": [
        {
          "output_type": "stream",
          "name": "stdout",
          "text": [
            "Training classification error is 0.375609756097561\n"
          ]
        }
      ],
      "source": [
        "# evaluate training error\n",
        "f_train = predict(w, x_train)\n",
        "diff = np.abs(f_train - y_train) / 2\n",
        "error_train = np.mean(diff)\n",
        "print('Training classification error is ' + str(error_train))"
      ]
    },
    {
      "cell_type": "code",
      "execution_count": 161,
      "metadata": {
        "colab": {
          "base_uri": "https://localhost:8080/"
        },
        "id": "paDufW79U8gS",
        "outputId": "5146c4e6-46c5-4386-803c-83a83bb906ee"
      },
      "outputs": [
        {
          "output_type": "stream",
          "name": "stdout",
          "text": [
            "Test classification error is 0.37254901960784315\n"
          ]
        }
      ],
      "source": [
        "# evaluate test error\n",
        "f_test = predict(w, x_test)\n",
        "diff = np.abs(f_test - y_test) / 2\n",
        "error_test = np.mean(diff)\n",
        "print('Test classification error is ' + str(error_test))"
      ]
    },
    {
      "cell_type": "markdown",
      "source": [
        "**BONUS**"
      ],
      "metadata": {
        "id": "PAHjz-CP9PnW"
      }
    },
    {
      "cell_type": "code",
      "source": [
        "def _gradient_reg(X, Y_label, w, b, i, batch_size, l):\n",
        "    y_pred = _f(X, w, b)\n",
        "    pred_error = y_pred - Y_label\n",
        "    if i == 0:\n",
        "        w_grad = np.mean(pred_error)\n",
        "    else:\n",
        "        w_grad = np.mean(pred_error * X.T, 1) + (1*w/batch_size)\n",
        "    b_grad = np.mean(pred_error)\n",
        "    return w_grad, b_grad\n",
        "\n",
        "import random\n",
        "def epoch(s, a, l):\n",
        "    idxArray = [i for i in range(len(a))]\n",
        "    numpy.random.shuffle(idxArray)\n",
        "    return [[a[numpy.array(idxArray[i: min(i + s, len(a))])], l[numpy.array(idxArray[i: min(i + s, len(a))])]]  for i in range(0,len(a), s)]\n",
        "\n",
        "    def mini_batch_sgd(x_train, y_train, w, b, stepsize, batch_size=32, max_epoch=150):\n",
        "         n, d = x_train.shape\n",
        "    objvals = np.zeros(max_epoch)\n",
        "    \n",
        "    for t in range(max_epoch):\n",
        "      objval = 0 \n",
        "\n",
        "      ## write your code here\n",
        "      for X, Y in epoch(batch_size, x_train, y_train):\n",
        "          y_pred = _f(X, w, b)\n",
        "          DG, GG = _gradient(X, Y, w, b)\n",
        "          objval += _cross_entropy_loss(y_pred, Y)\n",
        "          w = w - stepsize * DG\n",
        "          b = b - stepsize * GG\n",
        "        \n",
        "      stepsize *= 0.9 \n",
        "      objvals[t] = objval/n\n",
        "      print('Objective value at epoch t=' + str(t) + ' is ' + str(objval/n))\n",
        "    \n",
        "    return w, b, objvals\n",
        "\n"
      ],
      "metadata": {
        "id": "-DB8YmTUeywt"
      },
      "execution_count": 162,
      "outputs": []
    },
    {
      "cell_type": "markdown",
      "metadata": {
        "id": "jcZlzcr8yGYZ"
      },
      "source": [
        "## Submission instructions \n",
        "\n",
        "**PLEASE READ:** When you are ready to submit your assignment do the following:\n",
        "\n",
        "1. Run all cells in your notebook to make sure there are no errors by doing `Kernel -> Restart Kernel and Clear All Outputs` and then `Run -> Run All Cells`.\n",
        "2. Notebooks with cell execution numbers out of order will have marks deducted. Notebooks without the output displayed may not be graded at all (because we need to see the output in order to grade your work).\n",
        "3. Please keep your notebook clean and remove any throwaway code."
      ]
    }
  ],
  "metadata": {
    "colab": {
      "collapsed_sections": [],
      "provenance": []
    },
    "kernelspec": {
      "display_name": "Python 3 (ipykernel)",
      "language": "python",
      "name": "python3"
    },
    "language_info": {
      "codemirror_mode": {
        "name": "ipython",
        "version": 3
      },
      "file_extension": ".py",
      "mimetype": "text/x-python",
      "name": "python",
      "nbconvert_exporter": "python",
      "pygments_lexer": "ipython3",
      "version": "3.9.12"
    }
  },
  "nbformat": 4,
  "nbformat_minor": 0
}