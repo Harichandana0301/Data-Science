{
  "cells": [
    {
      "cell_type": "markdown",
      "metadata": {
        "id": "e63rmXOtVyys",
        "pycharm": {
          "name": "#%% md\n"
        }
      },
      "source": [
        "# Homework 4: Image Classification\n",
        "\n",
        "**Name:** "
      ]
    },
    {
      "cell_type": "code",
      "execution_count": null,
      "metadata": {
        "id": "fB_Wp-tBUyFn",
        "pycharm": {
          "is_executing": true,
          "name": "#%%\n"
        }
      },
      "outputs": [],
      "source": [
        "Name = \"Hari Chandana Kotnani\"\n",
        "assert Name != \"\", 'Please enter your name, thanks!'"
      ]
    },
    {
      "cell_type": "markdown",
      "metadata": {
        "id": "-oxtoxlQYJWe",
        "pycharm": {
          "name": "#%% md\n"
        }
      },
      "source": [
        "**A-Number:** "
      ]
    },
    {
      "cell_type": "code",
      "execution_count": null,
      "metadata": {
        "id": "aTPPvA-CYPVo",
        "pycharm": {
          "name": "#%%\n"
        }
      },
      "outputs": [],
      "source": [
        "A_number = \"A02396013\"\n",
        "assert A_number != \"\", 'Please enter your A-number, thanks!'"
      ]
    },
    {
      "cell_type": "markdown",
      "metadata": {
        "id": "YST4g_loYMU8",
        "pycharm": {
          "name": "#%% md\n"
        }
      },
      "source": [
        "**Kaggle-UserName:**"
      ]
    },
    {
      "cell_type": "code",
      "execution_count": null,
      "metadata": {
        "id": "EZjny9zCYSE3",
        "pycharm": {
          "name": "#%%\n"
        }
      },
      "outputs": [],
      "source": [
        "Kaggle_UserName = \"harichandanakotnani\"\n",
        "assert Kaggle_UserName != \"\", 'Please enter your Kaggle Username, thanks!'"
      ]
    },
    {
      "cell_type": "markdown",
      "metadata": {
        "id": "H0J-3RX7amNe",
        "pycharm": {
          "name": "#%% md\n"
        }
      },
      "source": [
        "In this homework, we will train a CNN model on EuroSAT. EuroSAT is a dataset consisting of images of the Earth provided by the Sentinel-2 satellite. The dataset contains ten types of images, so it is a dataset for multiclass classification. You can find more information about EuroSAT [here](https://ieeexplore.ieee.org/stamp/stamp.jsp?tp=&arnumber=8736785).\n",
        "\n",
        " **Please download the dataset from the [inclass Kaggle competition](https://www.kaggle.com/t/9642f138df72494ea456f05b0a70a4b0) as we split the original dataset into the train-valid-test sets.**\n",
        "\n",
        "This notebook contains a baseline model to train on EuroSAT. Please use it as a starting point. **The purpose of this homework is to design an advanced CNN model to achieve better performance on EuroSAT by yourself. You are not allowed to import pre-trained models. In case you are interested, we provide a sample code by using a pre-trained model, Resnet50.** \n",
        "\n",
        "Your jobs \n",
        "\n",
        "1.   Read, complete, and run the code.\n",
        "\n",
        "2.   **Make substantial improvements** to maximize the accurcy.\n",
        "\n",
        "3.   Submit the .IPYNB file to Canvas.\n",
        "    - Missing the output after execution may hurt your grade.\n",
        "\n",
        "4.   Submit the generated \"pred.csv\" to the [inclass Kaggle competition](https://www.kaggle.com/t/9642f138df72494ea456f05b0a70a4b0).\n",
        "\n",
        "\n",
        "# **Rules**\n",
        "\n",
        "- You should finish your homework on your own.\n",
        "- **You should not modify your prediction files manually.**\n",
        "- Do not share codes or prediction files with any living creatures.\n",
        "- **Do not search or use additional data.**\n",
        "- **Do not use any pre-trained models.**\n",
        "\n",
        "\n",
        "## Hints to Improve Your Results\n",
        "\n",
        "* You'd better use a GPU machine to run it, otherwise it'll be quite slow.\n",
        "* Revise the simple CNN model\n",
        "* Revise the *transforms* function by using some image augumentation techniques\n",
        "* Tune hyper-parameters, such as batch_size"
      ]
    },
    {
      "cell_type": "markdown",
      "metadata": {
        "id": "BJnaovZBamNe",
        "pycharm": {
          "name": "#%% md\n"
        }
      },
      "source": [
        "**Please describe your improvements here**:\n",
        "\n",
        "1. Implemented Batch Normalization 2d for convolution and 1d for linear layers\n",
        "2. Increased Fully connected layers \n",
        "3. Increased the batch size to 128 \n",
        "\n",
        "\n"
      ]
    },
    {
      "cell_type": "markdown",
      "metadata": {
        "id": "CCSzGfAzamNf",
        "pycharm": {
          "name": "#%% md\n"
        }
      },
      "source": [
        "First, import the packages or modules required for the competition."
      ]
    },
    {
      "cell_type": "code",
      "execution_count": null,
      "metadata": {
        "id": "5nscdzE4amNf",
        "pycharm": {
          "name": "#%%\n"
        }
      },
      "outputs": [],
      "source": [
        "import os\n",
        "import pandas as pd\n",
        "import shutil\n",
        "import time\n",
        "from copy import deepcopy\n",
        "\n",
        "device = 'cuda'\n",
        "import torchvision.models as models"
      ]
    },
    {
      "cell_type": "code",
      "execution_count": null,
      "metadata": {
        "id": "bIiU4S37amNf",
        "pycharm": {
          "name": "#%%\n"
        }
      },
      "outputs": [],
      "source": [
        "import torch\n",
        "import torch.nn as nn\n",
        "\n",
        "import torchvision\n",
        "import torchvision.transforms as transforms\n",
        "from torch.utils.data import random_split"
      ]
    },
    {
      "cell_type": "markdown",
      "metadata": {
        "id": "fX6BfOitbp2C"
      },
      "source": [
        "### Download the dataset to Colab from Kaggle. \n",
        "\n",
        "**You need to have your Kaggle Token at hand**. Please find [this article](https://medium.com/@opalkabert/downloading-kaggle-datasets-into-google-colab-fb9654c94235) for details."
      ]
    },
    {
      "cell_type": "code",
      "execution_count": null,
      "metadata": {
        "id": "rIkqENNCoPUz"
      },
      "outputs": [],
      "source": [
        "from os.path import exists\n",
        "# I added this if statement to make it easier to run all cells without having to re-upload the kaggle.json file\n",
        "if not exists(\"kaggle.json\"):\n",
        "  from google.colab import files\n",
        "  files.upload()   ## Upload your Kaggle token file."
      ]
    },
    {
      "cell_type": "code",
      "execution_count": null,
      "metadata": {
        "colab": {
          "base_uri": "https://localhost:8080/"
        },
        "id": "J7xscESTb1D0",
        "outputId": "a3abf085-4ff2-433f-ccd4-a93183a0f57e"
      },
      "outputs": [
        {
          "output_type": "stream",
          "name": "stdout",
          "text": [
            "Warning: Your Kaggle API key is readable by other users on this system! To fix this, you can run 'chmod 600 /root/.kaggle/kaggle.json'\n",
            "fall2022-cs5665-hw4.zip: Skipping, found more recently modified local copy (use --force to force download)\n"
          ]
        }
      ],
      "source": [
        "!mkdir -p ~/.kaggle\n",
        "!cp kaggle.json ~/.kaggle/\n",
        "!kaggle competitions download -c fall2022-cs5665-hw4   ## You need to join the competition first."
      ]
    },
    {
      "cell_type": "code",
      "execution_count": null,
      "metadata": {
        "id": "k2j4sZB9cMl0"
      },
      "outputs": [],
      "source": [
        "import os\n",
        "import zipfile\n",
        "import PIL\n",
        "from pathlib import Path\n",
        "local_zip = 'fall2022-cs5665-hw4.zip'\n",
        "zip_ref = zipfile.ZipFile(local_zip, 'r')\n",
        "zip_ref.extractall('./')\n",
        "zip_ref.close()"
      ]
    },
    {
      "cell_type": "markdown",
      "metadata": {
        "id": "5Ke521j5amNf",
        "pycharm": {
          "name": "#%% md\n"
        }
      },
      "source": [
        "### Loading and normalizing \n",
        "\n",
        "Using torchvision, it’s extremely easy to load EuroSAT."
      ]
    },
    {
      "cell_type": "code",
      "execution_count": null,
      "metadata": {
        "id": "QsWjoemkamNk",
        "pycharm": {
          "name": "#%%\n"
        }
      },
      "outputs": [],
      "source": [
        "transform = transforms.Compose([\n",
        "     transforms.ToTensor(),\n",
        "     transforms.Normalize((0.5, 0.5, 0.5), (0.5, 0.5, 0.5))])\n",
        "\n",
        "# train images: 18900, val images: 2700, test images: 5400\n",
        "trainset = torchvision.datasets.ImageFolder(root='./Dataset/train', transform=transform)\n",
        "valset = torchvision.datasets.ImageFolder(root='./Dataset/val', transform=transform)\n",
        "testset = torchvision.datasets.ImageFolder(root='./Dataset/test', transform=transform)\n",
        "\n",
        "trainloader = torch.utils.data.DataLoader(trainset, batch_size=128, shuffle=True, num_workers=2)\n",
        "valloader = torch.utils.data.DataLoader(valset, batch_size=128, shuffle=False, num_workers=2)\n",
        "testloader = torch.utils.data.DataLoader(testset, batch_size=128, shuffle=False, num_workers=2)\n",
        "\n",
        "classes = ('Forest', 'AnnualCrop', 'Industrial', 'Residential', 'Pasture', \n",
        "           'River', 'PermanentCrop', 'SeaLake', 'Highway', 'HerbaceousVegetation')"
      ]
    },
    {
      "cell_type": "code",
      "execution_count": null,
      "metadata": {
        "id": "C_zWrJAdamNk",
        "pycharm": {
          "name": "#%%\n"
        },
        "colab": {
          "base_uri": "https://localhost:8080/",
          "height": 287
        },
        "outputId": "cc7394a3-1be1-4154-a27d-0e9fadb79d8a"
      },
      "outputs": [
        {
          "output_type": "display_data",
          "data": {
            "text/plain": [
              "<Figure size 432x288 with 1 Axes>"
            ],
            "image/png": "[encoded data removed]"
          },
          "metadata": {
            "needs_background": "light"
          }
        },
        {
          "output_type": "stream",
          "name": "stdout",
          "text": [
            "HerbaceousVegetation Pasture PermanentCrop Industrial\n"
          ]
        }
      ],
      "source": [
        "import matplotlib.pyplot as plt\n",
        "import numpy as np\n",
        "\n",
        "# functions to show an image\n",
        "\n",
        "def imshow(img):\n",
        "    img = img / 2 + 0.5     # unnormalize\n",
        "    npimg = img.numpy()\n",
        "    plt.imshow(np.transpose(npimg, (1, 2, 0)))\n",
        "    plt.show()\n",
        "\n",
        "\n",
        "# get some random training images\n",
        "dataiter = iter(trainloader)\n",
        "images, labels = dataiter.next()\n",
        "\n",
        "# show images\n",
        "imshow(torchvision.utils.make_grid(images))\n",
        "# print labels\n",
        "print(' '.join('%5s' % classes[labels[j]] for j in range(4)))"
      ]
    },
    {
      "cell_type": "markdown",
      "metadata": {
        "id": "p7Fv3o2JamNl",
        "pycharm": {
          "name": "#%% md\n"
        }
      },
      "source": [
        "## Define the Model"
      ]
    },
    {
      "cell_type": "code",
      "execution_count": null,
      "metadata": {
        "id": "MmPrkYEyamNl",
        "pycharm": {
          "name": "#%%\n"
        }
      },
      "outputs": [],
      "source": [
        "import torch.nn as nn\n",
        "import torch.nn.functional as F\n",
        "\n",
        "class Net(nn.Module):\n",
        "    def __init__(self):\n",
        "        super(Net, self).__init__()\n",
        "        self.conv1 = nn.Conv2d(3, 6, 5)\n",
        "        self.conv1_bn = nn.BatchNorm2d(6)\n",
        "        self.pool = nn.MaxPool2d(2, 2)       \n",
        "        self.conv2 = nn.Conv2d(6, 16, 5)\n",
        "        self.conv2_bn = nn.BatchNorm2d(16)\n",
        "        self.fc1 = nn.Linear(16 * 13 * 13, 240)\n",
        "        self.fc1_bn = nn.BatchNorm1d(240)\n",
        "        self.fc2 = nn.Linear(240, 120) \n",
        "        self.fc2_bn = nn.BatchNorm1d(120)\n",
        "        self.fc3 = nn.Linear(120, 84)\n",
        "        self.fc3_bn = nn.BatchNorm1d(84)\n",
        "        self.fc4 = nn.Linear(84, 42) \n",
        "        self.fc4_bn = nn.BatchNorm1d(42)\n",
        "        self.fc5 = nn.Linear(42, 10) \n",
        "\n",
        "    def forward(self, x):\n",
        "\n",
        "        x = self.pool(F.relu(self.conv1_bn(self.conv1(x))))\n",
        "        x = self.pool(F.relu(self.conv2_bn(self.conv2(x))))\n",
        "        x = x.view(-1, 16 * 13 * 13)\n",
        "        x = F.relu(self.fc1_bn(self.fc1(x)))\n",
        "        x = F.relu(self.fc2_bn(self.fc2(x)))\n",
        "        x = F.relu(self.fc3_bn(self.fc3(x)))\n",
        "        x = F.relu(self.fc4_bn(self.fc4(x)))\n",
        "        x = self.fc5(x)\n",
        "        return x\n",
        "\n",
        "\n",
        "net = Net().to(device)"
      ]
    },
    {
      "cell_type": "code",
      "execution_count": null,
      "metadata": {
        "id": "MCbQuDPgamNl",
        "pycharm": {
          "name": "#%%\n"
        }
      },
      "outputs": [],
      "source": [
        "import torch.optim as optim\n",
        "\n",
        "criterion = nn.CrossEntropyLoss()\n",
        "optimizer = optim.Adam(net.parameters(), lr=0.001, weight_decay=1e-4)\n",
        "lr_scheduler = optim.lr_scheduler.StepLR(optimizer, step_size=1, gamma=0.1)"
      ]
    },
    {
      "cell_type": "markdown",
      "metadata": {
        "id": "LKNP657PamNm",
        "pycharm": {
          "name": "#%% md\n"
        }
      },
      "source": [
        "## Define the Training Functions\n",
        "\n",
        "We will select the model and tune hyper-parameters according to the model's performance on the validation set. Next, we define the model training function `train`. We record the training time of each epoch, which helps us compare the time costs of different models."
      ]
    },
    {
      "cell_type": "code",
      "execution_count": null,
      "metadata": {
        "id": "0b5Rx5fTamNm",
        "pycharm": {
          "name": "#%%\n"
        },
        "colab": {
          "base_uri": "https://localhost:8080/"
        },
        "outputId": "bedd0ed2-6c1b-4c25-f374-b6cb9c5d3ec0"
      },
      "outputs": [
        {
          "output_type": "stream",
          "name": "stdout",
          "text": [
            "Train loss 1: 1.1218064177099358,Train Acc:66.22222222222223%\n",
            "Val accuracy:66.18518518518519%\n",
            "Train loss 2: 0.5936260525385538,Train Acc:82.03703703703704%\n",
            "Val accuracy:82.03703703703704%\n",
            "Train loss 3: 0.536346353475379,Train Acc:84.28571428571429%\n",
            "Val accuracy:83.14814814814815%\n",
            "Train loss 4: 0.5290415436124045,Train Acc:84.52910052910053%\n",
            "Val accuracy:83.11111111111111%\n",
            "Train loss 5: 0.5316636775031922,Train Acc:84.4973544973545%\n",
            "Val accuracy:82.74074074074075%\n",
            "Train loss 6: 0.5285859003016558,Train Acc:84.45502645502646%\n",
            "Val accuracy:83.0%\n",
            "Train loss 7: 0.5247196125858045,Train Acc:84.92063492063492%\n",
            "Val accuracy:83.0%\n",
            "Train loss 8: 0.5300931516778532,Train Acc:84.70370370370371%\n",
            "Val accuracy:82.85185185185185%\n",
            "Train loss 9: 0.5327925218476189,Train Acc:84.4021164021164%\n",
            "Val accuracy:83.25925925925925%\n",
            "Train loss 10: 0.5343265950616706,Train Acc:84.31216931216932%\n",
            "Val accuracy:83.11111111111111%\n",
            "Train loss 11: 0.5309601747548138,Train Acc:84.53968253968254%\n",
            "Val accuracy:83.07407407407408%\n",
            "Train loss 12: 0.5283737508834354,Train Acc:84.44973544973546%\n",
            "Val accuracy:83.03703703703704%\n",
            "Train loss 13: 0.528272493642474,Train Acc:84.57671957671958%\n",
            "Val accuracy:83.37037037037037%\n",
            "Train loss 14: 0.5288363395039998,Train Acc:84.71957671957672%\n",
            "Val accuracy:82.88888888888889%\n",
            "Train loss 15: 0.5277275049749506,Train Acc:84.62433862433862%\n",
            "Val accuracy:82.96296296296296%\n",
            "Train loss 16: 0.5278784697270267,Train Acc:84.65079365079364%\n",
            "Val accuracy:83.0%\n",
            "Train loss 17: 0.5308484064208137,Train Acc:84.41269841269842%\n",
            "Val accuracy:83.25925925925925%\n",
            "Train loss 18: 0.5246919754636351,Train Acc:84.86243386243386%\n",
            "Val accuracy:83.33333333333333%\n",
            "Train loss 19: 0.527783884093875,Train Acc:84.66137566137566%\n",
            "Val accuracy:82.77777777777777%\n",
            "Train loss 20: 0.5287444960503351,Train Acc:84.9047619047619%\n",
            "Val accuracy:83.03703703703704%\n",
            "Finished Training\n",
            "CPU times: user 45.9 s, sys: 10.8 s, total: 56.7 s\n",
            "Wall time: 3min 32s\n"
          ]
        }
      ],
      "source": [
        "%%time\n",
        "best_val_acc = -1000\n",
        "best_val_model = None\n",
        "acc_record = {'train': [], 'dev': []} # added\n",
        "for epoch in range(20):  \n",
        "    net.train()\n",
        "    running_loss = 0.0\n",
        "    running_acc = 0\n",
        "    for i, data in enumerate(trainloader, 0):\n",
        "        inputs, labels = data\n",
        "        inputs, labels = inputs.cuda(),labels.cuda()\n",
        "\n",
        "        optimizer.zero_grad()\n",
        "        outputs = net(inputs)\n",
        "        loss = criterion(outputs, labels)\n",
        "        loss.backward()\n",
        "        optimizer.step()\n",
        "\n",
        "\n",
        "        # print statistics\n",
        "        running_loss += loss.item() * inputs.size(0)\n",
        "        out = torch.argmax(outputs.detach(),dim=1)\n",
        "        assert out.shape==labels.shape\n",
        "        running_acc += (labels==out).sum().item()\n",
        "    acc_record['train'].append(running_acc/len(trainset))  # added\n",
        "    print(f\"Train loss {epoch+1}: {running_loss/len(trainset)},Train Acc:{running_acc*100/len(trainset)}%\")\n",
        "    \n",
        "    correct = 0\n",
        "    net.eval()\n",
        "    with torch.no_grad():\n",
        "        for inputs,labels in valloader:\n",
        "            out = net(inputs.cuda()).cpu()\n",
        "            out = torch.argmax(out,dim=1)\n",
        "            acc = (out==labels).sum().item()\n",
        "            correct += acc\n",
        "    acc_record['dev'].append(correct/len(valset))  # added\n",
        "    print(f\"Val accuracy:{correct*100/len(valset)}%\")\n",
        "    if correct>best_val_acc:\n",
        "        best_val_acc = correct\n",
        "        best_val_model = deepcopy(net.state_dict())\n",
        "    lr_scheduler.step()\n",
        "    \n",
        "print('Finished Training')  "
      ]
    },
    {
      "cell_type": "code",
      "execution_count": null,
      "metadata": {
        "id": "i7A_66Xx3K8Z"
      },
      "outputs": [],
      "source": [
        "# For plotting\n",
        "import matplotlib.pyplot as plt\n",
        "from matplotlib.pyplot import figure\n",
        "import math"
      ]
    },
    {
      "cell_type": "markdown",
      "metadata": {
        "id": "Giwqq31nKmNw"
      },
      "source": [
        "## Plotting the Learning curve\n",
        "I just modified the learning curve function from Homework 3. You're more than welcome to change anything you dislike."
      ]
    },
    {
      "cell_type": "code",
      "execution_count": null,
      "metadata": {
        "id": "Pzqcal9I1qWU"
      },
      "outputs": [],
      "source": [
        "# This is mo\n",
        "def plot_learning_curve(acc_record, title=''):\n",
        "    ''' Plot learning curve of your DNN (train & dev loss) '''\n",
        "    x_1 = range(len(acc_record['train']))\n",
        "    x_2 = range(len(acc_record['dev']))\n",
        "    figure(figsize=(6, 4))\n",
        "    plt.plot(x_1, acc_record['train'], c='tab:red', label='train')\n",
        "    plt.plot(x_2, acc_record['dev'], c='tab:cyan', label='dev')\n",
        "    y_min = min(min(acc_record['train']), min(acc_record['dev']))\n",
        "    y_max = max(max(acc_record['train']), max(acc_record['dev']))\n",
        "\n",
        "    # TODO: feel free to change this range to see the learning curve better\n",
        "    plt.ylim(max(.95*y_min-0.01, 0.5), min(1.05*y_max+0.01, 1))\n",
        "    plt.xlabel('Epochs')\n",
        "    plt.ylabel('Accuracy')\n",
        "    plt.title('Learning curve of {}'.format(title))\n",
        "    plt.legend()\n",
        "    plt.show()"
      ]
    },
    {
      "cell_type": "code",
      "execution_count": null,
      "metadata": {
        "id": "hEnsZydy1rPh",
        "colab": {
          "base_uri": "https://localhost:8080/",
          "height": 295
        },
        "outputId": "774a253e-4132-4967-9ece-8b199634f137"
      },
      "outputs": [
        {
          "output_type": "display_data",
          "data": {
            "text/plain": [
              "<Figure size 432x288 with 1 Axes>"
            ],
            "image/png": "[encoded data removed]"
          },
          "metadata": {
            "needs_background": "light"
          }
        }
      ],
      "source": [
        "plot_learning_curve(acc_record, title='deep model')"
      ]
    },
    {
      "cell_type": "code",
      "execution_count": null,
      "metadata": {
        "id": "v6fzf0qNOqV9",
        "pycharm": {
          "name": "#%%\n"
        },
        "colab": {
          "base_uri": "https://localhost:8080/"
        },
        "outputId": "c0ad290a-2682-4cf2-8227-5f90f052db27"
      },
      "outputs": [
        {
          "output_type": "stream",
          "name": "stdout",
          "text": [
            "CPU times: user 239 ms, sys: 155 ms, total: 394 ms\n",
            "Wall time: 2.54 s\n"
          ]
        }
      ],
      "source": [
        "%%time\n",
        "preds = []\n",
        "net.load_state_dict(best_val_model)\n",
        "net.eval()\n",
        "with torch.no_grad():\n",
        "    for inputs,labels in testloader:\n",
        "        out = net(inputs.cuda()).cpu()\n",
        "        out = torch.argmax(out,dim=1)\n",
        "        preds.append(out.detach().cpu())\n",
        "preds = torch.cat(preds, dim=0).numpy()"
      ]
    },
    {
      "cell_type": "code",
      "execution_count": null,
      "metadata": {
        "id": "UikJsCXAP9J5",
        "pycharm": {
          "name": "#%%\n"
        }
      },
      "outputs": [],
      "source": [
        "import csv\n",
        "with open('pred.csv', 'w') as fp:\n",
        "        writer = csv.writer(fp)\n",
        "        writer.writerow(['id', 'label'])\n",
        "        for i, p in enumerate(preds):\n",
        "            writer.writerow([i, p])"
      ]
    },
    {
      "cell_type": "markdown",
      "metadata": {
        "id": "gewjHPJCamNn"
      },
      "source": [
        "## Submission instructions \n",
        "\n",
        "**PLEASE READ:** When you are ready to submit your assignment do the following:\n",
        "\n",
        "1. Run all cells in your notebook to make sure there are no errors by doing `Kernel -> Restart Kernel and Clear All Outputs` and then `Run -> Run All Cells`.\n",
        "2. Notebooks with cell execution numbers out of order will have marks deducted. Notebooks without the output displayed may not be graded at all (because we need to see the output in order to grade your work).\n",
        "3. Please keep your notebook clean and remove any throwaway code.\n",
        "4. **Please upload the pred.csv to the [class competition](https://www.kaggle.com/competitions/fall2022-cs5665-hw4/overview).** The score of this homework is based on the result on the private datset."
      ]
    },
    {
      "cell_type": "code",
      "execution_count": null,
      "metadata": {
        "id": "dxC7ef47amNn"
      },
      "outputs": [],
      "source": []
    }
  ],
  "metadata": {
    "accelerator": "GPU",
    "colab": {
      "provenance": []
    },
    "kernelspec": {
      "display_name": "Python 3.7.9 64-bit",
      "language": "python",
      "name": "python3"
    },
    "language_info": {
      "codemirror_mode": {
        "name": "ipython",
        "version": 3
      },
      "file_extension": ".py",
      "mimetype": "text/x-python",
      "name": "python",
      "nbconvert_exporter": "python",
      "pygments_lexer": "ipython3",
      "version": "3.7.9"
    },
    "vscode": {
      "interpreter": {
        "hash": "abc8709615b5f81fced745e59133b05a7ce14864da8ef4169d80ff831846d0e8"
      }
    }
  },
  "nbformat": 4,
  "nbformat_minor": 0
}